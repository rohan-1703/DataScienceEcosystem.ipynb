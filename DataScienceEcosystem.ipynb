{
 "cells": [
  {
   "cell_type": "markdown",
   "id": "11bc4b98",
   "metadata": {},
   "source": [
    "Data Science Tools and Ecosystem\n"
   ]
  },
  {
   "cell_type": "markdown",
   "id": "ef57c93a",
   "metadata": {},
   "source": [
    "In this notebook, Data Science Tools and Ecosystem are summarized as\n",
    "Data science is a rapidly growing field that requires a combination of technical, analytical, and business skills. To be successful in this field, it is important to have a solid understanding of the tools and ecosystem that are available to data scientists.\n"
   ]
  },
  {
   "cell_type": "markdown",
   "id": "02b199ca",
   "metadata": {},
   "source": [
    "Some of the popular languages that Data Scientists use are:-\n",
    "1. Python \n",
    "2. R \n",
    "3. SQL"
   ]
  },
  {
   "cell_type": "markdown",
   "id": "295701fc",
   "metadata": {},
   "source": [
    "Some of the commonly used libraries used by Data Scientists include:\n",
    "1. NumPy: NumPy is a library for numerical computing in Python.\n",
    "2. Scikit-learn: Scikit-learn is a library for machine learning in Python.\n",
    "3. TensorFlow: TensorFlow is a library for machine learning in Python.\n",
    "4. Matplotlib: Matplotlib is a library for data visualization in Python.\n",
    "5. Statsmodels: Statsmodels is a library for statistical analysis in Python."
   ]
  },
  {
   "cell_type": "markdown",
   "id": "576f9a7c",
   "metadata": {},
   "source": [
    "# Data Science Tools\n",
    "Jupyter Notebook\n",
    "RStudio\n",
    "Spyder IDE"
   ]
  },
  {
   "cell_type": "code",
   "execution_count": 1,
   "id": "a07b9db2",
   "metadata": {},
   "outputs": [
    {
     "data": {
      "text/plain": [
       "9"
      ]
     },
     "execution_count": 1,
     "metadata": {},
     "output_type": "execute_result"
    }
   ],
   "source": [
    "#Below are a few examples of evaluating arithmetic expressions in Python\n",
    "1+3+5"
   ]
  },
  {
   "cell_type": "code",
   "execution_count": 2,
   "id": "b190d8d3",
   "metadata": {},
   "outputs": [
    {
     "data": {
      "text/plain": [
       "7"
      ]
     },
     "execution_count": 2,
     "metadata": {},
     "output_type": "execute_result"
    }
   ],
   "source": [
    "9-2"
   ]
  },
  {
   "cell_type": "code",
   "execution_count": 3,
   "id": "e0af66f9",
   "metadata": {},
   "outputs": [
    {
     "data": {
      "text/plain": [
       "17"
      ]
     },
     "execution_count": 3,
     "metadata": {},
     "output_type": "execute_result"
    }
   ],
   "source": [
    "#This a simple arithmetic expression to mutiply then add integers\n",
    "(3*4)+5"
   ]
  },
  {
   "cell_type": "code",
   "execution_count": 4,
   "id": "49b80cef",
   "metadata": {},
   "outputs": [
    {
     "name": "stdout",
     "output_type": "stream",
     "text": [
      "3.3333333333333335\n"
     ]
    }
   ],
   "source": [
    "#This will convert 200 minutes to hours by diving by 60\n",
    "minutes = 200\n",
    "hours = minutes / 60\n",
    "print(hours)"
   ]
  },
  {
   "cell_type": "markdown",
   "id": "45d96281",
   "metadata": {},
   "source": [
    "OBJECTIVES OF THE NOTEBOOK:-\n",
    "Popular languages for Data Science\n",
    "Commonly used libraries used by Data Scientists\n",
    "Tools for data science\n",
    "Evaluating arithmetic expressions in Python\n"
   ]
  },
  {
   "cell_type": "markdown",
   "id": "e319a53a",
   "metadata": {},
   "source": [
    "Author\n",
    "Rohan"
   ]
  }
 ],
 "metadata": {
  "kernelspec": {
   "display_name": "Python 3 (ipykernel)",
   "language": "python",
   "name": "python3"
  },
  "language_info": {
   "codemirror_mode": {
    "name": "ipython",
    "version": 3
   },
   "file_extension": ".py",
   "mimetype": "text/x-python",
   "name": "python",
   "nbconvert_exporter": "python",
   "pygments_lexer": "ipython3",
   "version": "3.9.13"
  }
 },
 "nbformat": 4,
 "nbformat_minor": 5
}
